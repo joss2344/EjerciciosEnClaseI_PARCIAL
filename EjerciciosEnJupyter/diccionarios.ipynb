{
 "cells": [
  {
   "cell_type": "code",
   "execution_count": 1,
   "id": "6f5f5be0-a5a3-47b5-8aef-eb9b9d02b61b",
   "metadata": {},
   "outputs": [
    {
     "data": {
      "text/plain": [
       "dict"
      ]
     },
     "execution_count": 1,
     "metadata": {},
     "output_type": "execute_result"
    }
   ],
   "source": [
    "dic={}\n",
    "type(dic)"
   ]
  },
  {
   "cell_type": "code",
   "execution_count": 4,
   "id": "549c2454-2514-476d-85f2-7c1175f36d84",
   "metadata": {},
   "outputs": [
    {
     "data": {
      "text/plain": [
       "{'Jose': 18, 'Baruc': 34, 'Mike': 33, 'Neron': 32}"
      ]
     },
     "execution_count": 4,
     "metadata": {},
     "output_type": "execute_result"
    }
   ],
   "source": [
    "edades={\"Jose\": 18, \"Baruc\": 34, \"Mike\":33, \"Neron\":32}\n",
    "edades\n"
   ]
  },
  {
   "cell_type": "code",
   "execution_count": 5,
   "id": "21898df0-cc4d-402d-b79a-76ae68780f3b",
   "metadata": {},
   "outputs": [
    {
     "data": {
      "text/plain": [
       "{'Jose': 15, 'Baruc': 34, 'Mike': 33, 'Neron': 32}"
      ]
     },
     "execution_count": 5,
     "metadata": {},
     "output_type": "execute_result"
    }
   ],
   "source": [
    "edades[\"Jose\"]=15\n",
    "edades"
   ]
  },
  {
   "cell_type": "code",
   "execution_count": 6,
   "id": "841018e1-2446-4f5f-ac70-49fb0bb58623",
   "metadata": {},
   "outputs": [
    {
     "data": {
      "text/plain": [
       "dict_keys(['Jose', 'Baruc', 'Mike', 'Neron'])"
      ]
     },
     "execution_count": 6,
     "metadata": {},
     "output_type": "execute_result"
    }
   ],
   "source": [
    "edades.keys()"
   ]
  },
  {
   "cell_type": "code",
   "execution_count": 8,
   "id": "3cd90a43-4cc6-423f-9f9e-689bc1f76dbc",
   "metadata": {},
   "outputs": [
    {
     "data": {
      "text/plain": [
       "dict_values([15, 34, 33, 32])"
      ]
     },
     "execution_count": 8,
     "metadata": {},
     "output_type": "execute_result"
    }
   ],
   "source": [
    "edades.values()"
   ]
  },
  {
   "cell_type": "code",
   "execution_count": 9,
   "id": "a3121d5c-ad7d-4c3e-bef6-06c5ffc782c9",
   "metadata": {},
   "outputs": [
    {
     "data": {
      "text/plain": [
       "dict_items([('Jose', 15), ('Baruc', 34), ('Mike', 33), ('Neron', 32)])"
      ]
     },
     "execution_count": 9,
     "metadata": {},
     "output_type": "execute_result"
    }
   ],
   "source": [
    "edades.items()"
   ]
  },
  {
   "cell_type": "code",
   "execution_count": 10,
   "id": "8f47a91c-e791-448b-aad7-6f6b826fe137",
   "metadata": {},
   "outputs": [
    {
     "data": {
      "text/plain": [
       "15"
      ]
     },
     "execution_count": 10,
     "metadata": {},
     "output_type": "execute_result"
    }
   ],
   "source": [
    "edades.get(\"Jose\")"
   ]
  },
  {
   "cell_type": "code",
   "execution_count": 11,
   "id": "7477ee90-465c-48cf-8e44-744b28050d15",
   "metadata": {},
   "outputs": [
    {
     "data": {
      "text/plain": [
       "32"
      ]
     },
     "execution_count": 11,
     "metadata": {},
     "output_type": "execute_result"
    }
   ],
   "source": [
    "edades.get(\"Neron\")"
   ]
  },
  {
   "cell_type": "code",
   "execution_count": 12,
   "id": "a2068834-1f7e-4128-818a-3161ddba0bde",
   "metadata": {},
   "outputs": [],
   "source": [
    "edades.get(15)"
   ]
  },
  {
   "cell_type": "code",
   "execution_count": null,
   "id": "46a00773-71d9-42ca-83de-12558df56aad",
   "metadata": {},
   "outputs": [],
   "source": []
  }
 ],
 "metadata": {
  "kernelspec": {
   "display_name": "Python [conda env:base] *",
   "language": "python",
   "name": "conda-base-py"
  },
  "language_info": {
   "codemirror_mode": {
    "name": "ipython",
    "version": 3
   },
   "file_extension": ".py",
   "mimetype": "text/x-python",
   "name": "python",
   "nbconvert_exporter": "python",
   "pygments_lexer": "ipython3",
   "version": "3.12.7"
  }
 },
 "nbformat": 4,
 "nbformat_minor": 5
}
