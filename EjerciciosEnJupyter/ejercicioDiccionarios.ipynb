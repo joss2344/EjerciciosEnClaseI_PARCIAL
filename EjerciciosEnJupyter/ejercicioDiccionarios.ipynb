{
 "cells": [
  {
   "cell_type": "code",
   "execution_count": 35,
   "id": "1777a0b2-6c7e-4dfb-93f4-f10995f99612",
   "metadata": {},
   "outputs": [
    {
     "name": "stdin",
     "output_type": "stream",
     "text": [
      "Ingrese su nombre:  jose\n",
      "Ingrese el nombre del producto:  televisor\n"
     ]
    }
   ],
   "source": [
    "#compra de un producto\n",
    "\n",
    "#diccionario de valores\n",
    "\n",
    "productos={\"Producto\": \"Consola\",\n",
    "           \"Precio\":5000,\n",
    "           \"impuesto\": 0.15, \n",
    "           \"Cantidad\": 5,\n",
    "            \"Producto\": \"Televisor\",\n",
    "           \"Precio\":5000,\n",
    "           \"impuesto\": 0.15, \n",
    "           \"Cantidad\": 10}\n",
    "\n",
    "cliente=input(\"Ingrese su nombre: \")\n",
    "productoc=input(\"Ingrese el nombre del producto: \")\n",
    "str.capitalize(productoc)\n",
    "\n",
    "match (productoc):\n",
    "    case \"Consola\":\n",
    "        print(\"Eligio Consola\")\n",
    "        precio=productos.get(\"Precio\")\n",
    "        isv=productos.get(\"impuesto\")\n",
    "        cantidad=productos.get(\"Cantidad\")\n",
    "        print(\"El precio es: \",precio)\n",
    "        print(\"El impuesto es: \",isv)\n",
    "        print(\"La cantidad elegida: \",cantidad)\n",
    "        subtotal=(precio*cantidad)*isv\n",
    "        total=precio+subtotal\n",
    "        print(\"El total es: \",total)\n",
    "\n",
    "\n",
    "    case \"Televisor\":\n",
    "        print(\"Eligio Televisor\")\n",
    "        print(\"Nombre del cliente: \",cliente)\n",
    "        precio=productos.get(\"Precio\")\n",
    "        isv=productos.get(\"impuesto\")\n",
    "        cantidad=productos.get(\"Cantidad\")\n",
    "        print(\"El precio es: \",precio)\n",
    "        print(\"El impuesto es: \",isv)\n",
    "        print(\"La cantidad elegida: \",cantidad)\n",
    "        subtotal=(precio*cantidad)*isv\n",
    "        total=precio+subtotal\n",
    "        print(\"El total es: \",total)\n",
    "\n",
    "#traer importado pandas\n",
    "  "
   ]
  },
  {
   "cell_type": "code",
   "execution_count": null,
   "id": "c0706441-939c-49f7-9272-8df5574598fe",
   "metadata": {},
   "outputs": [],
   "source": []
  }
 ],
 "metadata": {
  "kernelspec": {
   "display_name": "Python [conda env:base] *",
   "language": "python",
   "name": "conda-base-py"
  },
  "language_info": {
   "codemirror_mode": {
    "name": "ipython",
    "version": 3
   },
   "file_extension": ".py",
   "mimetype": "text/x-python",
   "name": "python",
   "nbconvert_exporter": "python",
   "pygments_lexer": "ipython3",
   "version": "3.12.7"
  }
 },
 "nbformat": 4,
 "nbformat_minor": 5
}
