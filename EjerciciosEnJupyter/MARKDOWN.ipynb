{
 "cells": [
  {
   "cell_type": "code",
   "execution_count": 1,
   "id": "f22b7175-6e05-4800-b4b8-ffbf3861bc08",
   "metadata": {},
   "outputs": [
    {
     "data": {
      "text/plain": [
       "3"
      ]
     },
     "execution_count": 1,
     "metadata": {},
     "output_type": "execute_result"
    }
   ],
   "source": [
    "1+2"
   ]
  },
  {
   "cell_type": "code",
   "execution_count": 2,
   "id": "425e9c30-7291-4d5e-ac82-7ef83e3c2a66",
   "metadata": {},
   "outputs": [],
   "source": [
    "A=1+2\n"
   ]
  },
  {
   "cell_type": "code",
   "execution_count": 3,
   "id": "2fb08eee-7766-4f18-8a2d-a3e7b5ecaa92",
   "metadata": {},
   "outputs": [
    {
     "data": {
      "text/plain": [
       "3"
      ]
     },
     "execution_count": 3,
     "metadata": {},
     "output_type": "execute_result"
    }
   ],
   "source": [
    "A\n"
   ]
  },
  {
   "cell_type": "code",
   "execution_count": 4,
   "id": "d1863846-f2b4-4ce7-8b1e-38c0e75d0e70",
   "metadata": {},
   "outputs": [],
   "source": [
    "#FUNES DE SHEIN"
   ]
  },
  {
   "cell_type": "markdown",
   "id": "0bf8c94e-ee87-4ab0-bd9a-3ad3fb8d4578",
   "metadata": {},
   "source": [
    "# Jose Antonio\n",
    "## SANTA BARBARA\n",
    "* Las Casitas"
   ]
  },
  {
   "cell_type": "code",
   "execution_count": null,
   "id": "c2abc882-ba40-45af-a2f3-4a899d0ffde6",
   "metadata": {},
   "outputs": [],
   "source": []
  }
 ],
 "metadata": {
  "kernelspec": {
   "display_name": "Python [conda env:base] *",
   "language": "python",
   "name": "conda-base-py"
  },
  "language_info": {
   "codemirror_mode": {
    "name": "ipython",
    "version": 3
   },
   "file_extension": ".py",
   "mimetype": "text/x-python",
   "name": "python",
   "nbconvert_exporter": "python",
   "pygments_lexer": "ipython3",
   "version": "3.12.7"
  }
 },
 "nbformat": 4,
 "nbformat_minor": 5
}
