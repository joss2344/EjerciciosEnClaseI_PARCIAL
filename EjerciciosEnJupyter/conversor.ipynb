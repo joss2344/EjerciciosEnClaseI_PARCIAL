{
 "cells": [
  {
   "cell_type": "code",
   "execution_count": null,
   "id": "e8b8c105-8c90-4e6d-9fd7-3e429cf86d41",
   "metadata": {},
   "outputs": [
    {
     "name": "stdout",
     "output_type": "stream",
     "text": [
      "1. Dolar\n",
      "2. Euro\n",
      "3. Lempira\n"
     ]
    },
    {
     "name": "stdin",
     "output_type": "stream",
     "text": [
      "Ingrese su moneda actual:  1\n",
      "Ingrese la cantidad de dólares:  100\n"
     ]
    },
    {
     "name": "stdout",
     "output_type": "stream",
     "text": [
      "El resultado es: 2500.0 Lempiras\n",
      "El resultado es: 85.0 Euros\n"
     ]
    },
    {
     "name": "stdin",
     "output_type": "stream",
     "text": [
      "Ingrese la cantidad de dólares:  1\n"
     ]
    },
    {
     "name": "stdout",
     "output_type": "stream",
     "text": [
      "El resultado es: 25.0 Lempiras\n",
      "El resultado es: 0.85 Euros\n"
     ]
    }
   ],
   "source": [
    "##programa que convierte una moneda a euros, lempiras o dolares\n",
    "print(\"1. Dolar\")\n",
    "print(\"2. Euro\")\n",
    "print(\"3. Lempira\")\n",
    "\n",
    "op = int(input(\"Ingrese su moneda actual: \"))\n",
    "\n",
    "def convertir(op):\n",
    "    if op==1:\n",
    "        dolares=float(input(\"Ingrese la cantidad de dólares: \"))\n",
    "        resultadoe=dolares*0.85\n",
    "        resultadol=dolares*25\n",
    "        print(f\"El resultado es: {resultadol} Lempiras\")\n",
    "        print(f\"El resultado es: {resultadoe} Euros\")\n",
    "\n",
    "    elif op == 2:\n",
    "        euros=float(input(\"Ingrese la cantidad de euros: \"))\n",
    "        resultadod=euros*1.12\n",
    "        resultadol=euros*29.50\n",
    "        print(f\"El resultado es: {resultadod} Dólares\")\n",
    "        print(f\"El resultado es: {resultadol} Lempiras\")\n",
    "\n",
    "    elif op==3:\n",
    "        lempiras=float(input(\"Ingrese la cantidad de Lempiras: \"))\n",
    "        resultadod=lempiras *0.038\n",
    "        resultadoe=lempiras *0.034\n",
    "        print(f\"El resultado es: {resultadod} Dólares\")\n",
    "        print(f\"El resultado es: {resultadoe} Euros\")\n",
    "\n",
    "    else:\n",
    "        print(\"Opcion invalida. Por favor seleccione 1, 2 o 3.\")\n",
    "        \n",
    "convertir(op)\n",
    "\n"
   ]
  },
  {
   "cell_type": "code",
   "execution_count": null,
   "id": "87eac971",
   "metadata": {},
   "outputs": [],
   "source": []
  }
 ],
 "metadata": {
  "kernelspec": {
   "display_name": "Python [conda env:base] *",
   "language": "python",
   "name": "conda-base-py"
  },
  "language_info": {
   "codemirror_mode": {
    "name": "ipython",
    "version": 3
   },
   "file_extension": ".py",
   "mimetype": "text/x-python",
   "name": "python",
   "nbconvert_exporter": "python",
   "pygments_lexer": "ipython3",
   "version": "3.12.7"
  }
 },
 "nbformat": 4,
 "nbformat_minor": 5
}
