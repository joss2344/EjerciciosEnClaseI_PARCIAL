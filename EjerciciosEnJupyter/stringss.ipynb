{
 "cells": [
  {
   "cell_type": "code",
   "execution_count": 17,
   "id": "80fcc0bb-6136-4b50-a0e3-c8059d563786",
   "metadata": {},
   "outputs": [],
   "source": [
    "frutas=[\"zanahoria\",\"ciruela\",\"Arandano\",\"Uva\"]"
   ]
  },
  {
   "cell_type": "code",
   "execution_count": 18,
   "id": "82dc05fc-9409-4649-ba63-b973f99cc8a9",
   "metadata": {},
   "outputs": [
    {
     "data": {
      "text/plain": [
       "list"
      ]
     },
     "execution_count": 18,
     "metadata": {},
     "output_type": "execute_result"
    }
   ],
   "source": [
    "type(frutas)"
   ]
  },
  {
   "cell_type": "code",
   "execution_count": 19,
   "id": "95516fde-685b-4733-9e20-d0422b107dbe",
   "metadata": {},
   "outputs": [
    {
     "data": {
      "text/plain": [
       "list"
      ]
     },
     "execution_count": 19,
     "metadata": {},
     "output_type": "execute_result"
    }
   ],
   "source": [
    "listas=[[1,2,3],[\"a\",\"b\",\"c\"],[True,False]]\n",
    "type(listas)"
   ]
  },
  {
   "cell_type": "code",
   "execution_count": 20,
   "id": "4f6e39f9-4681-432c-80c0-d0460193ce7d",
   "metadata": {},
   "outputs": [
    {
     "data": {
      "text/plain": [
       "list"
      ]
     },
     "execution_count": 20,
     "metadata": {},
     "output_type": "execute_result"
    }
   ],
   "source": [
    "mixta=[1,\"A\",True]\n",
    "type(mixta)"
   ]
  },
  {
   "cell_type": "code",
   "execution_count": 21,
   "id": "608ed521-1f69-4700-ab65-08af9c0c8913",
   "metadata": {},
   "outputs": [],
   "source": [
    "frutas.append(\"mangaso\")"
   ]
  },
  {
   "cell_type": "code",
   "execution_count": 22,
   "id": "e38d65ba-ead5-4acb-8caf-78ec1c703b8d",
   "metadata": {},
   "outputs": [],
   "source": [
    "frutas.insert(5,\"mangitio\")"
   ]
  },
  {
   "cell_type": "code",
   "execution_count": 23,
   "id": "6f61d7b3-061d-4050-8893-c592c7ca4ad8",
   "metadata": {},
   "outputs": [
    {
     "name": "stdout",
     "output_type": "stream",
     "text": [
      "['zanahoria', 'ciruela', 'Arandano', 'Uva', 'mangaso', 'mangitio']\n"
     ]
    }
   ],
   "source": [
    "print(frutas)"
   ]
  },
  {
   "cell_type": "code",
   "execution_count": 24,
   "id": "29ee4420-89b6-4b23-9c67-9f591fb0c660",
   "metadata": {},
   "outputs": [],
   "source": [
    "frutas.insert(5,\"mangono\")"
   ]
  },
  {
   "cell_type": "code",
   "execution_count": 25,
   "id": "b3685786-499a-4924-8c31-70fe849e8337",
   "metadata": {},
   "outputs": [
    {
     "name": "stdout",
     "output_type": "stream",
     "text": [
      "['zanahoria', 'ciruela', 'Arandano', 'Uva', 'mangaso', 'mangono', 'mangitio']\n"
     ]
    }
   ],
   "source": [
    "print(frutas)"
   ]
  },
  {
   "cell_type": "code",
   "execution_count": 26,
   "id": "5cdb9571-5570-4969-80c8-aa7e0c72e7e0",
   "metadata": {},
   "outputs": [],
   "source": [
    "frutas.remove(\"mangitio\")"
   ]
  },
  {
   "cell_type": "code",
   "execution_count": 27,
   "id": "523f0ebd-e511-4e07-8bfe-d79a374ad6d8",
   "metadata": {},
   "outputs": [
    {
     "name": "stdout",
     "output_type": "stream",
     "text": [
      "['zanahoria', 'ciruela', 'Arandano', 'Uva', 'mangaso', 'mangono']\n"
     ]
    }
   ],
   "source": [
    "print(frutas)"
   ]
  },
  {
   "cell_type": "code",
   "execution_count": 28,
   "id": "2f6391be-ea3b-440e-851b-17da4851ac67",
   "metadata": {},
   "outputs": [],
   "source": [
    "frutas.insert(1,\"cereza\")"
   ]
  },
  {
   "cell_type": "code",
   "execution_count": 29,
   "id": "53a264d2-a079-457f-823b-27370b75a3b8",
   "metadata": {},
   "outputs": [
    {
     "name": "stdout",
     "output_type": "stream",
     "text": [
      "['zanahoria', 'cereza', 'ciruela', 'Arandano', 'Uva', 'mangaso', 'mangono']\n"
     ]
    }
   ],
   "source": [
    "print(frutas)"
   ]
  },
  {
   "cell_type": "code",
   "execution_count": 30,
   "id": "d577e6e4-214a-448c-adf9-82f74ea3359d",
   "metadata": {},
   "outputs": [
    {
     "data": {
      "text/plain": [
       "['zanahoria', 'cereza', 'ciruela', 'Arandano', 'Uva', 'mangaso', 'mangono']"
      ]
     },
     "execution_count": 30,
     "metadata": {},
     "output_type": "execute_result"
    }
   ],
   "source": [
    "frutas"
   ]
  },
  {
   "cell_type": "code",
   "execution_count": 31,
   "id": "2587e1e9-970a-4909-b625-113a6d5be8d3",
   "metadata": {},
   "outputs": [
    {
     "data": {
      "text/plain": [
       "'mangono'"
      ]
     },
     "execution_count": 31,
     "metadata": {},
     "output_type": "execute_result"
    }
   ],
   "source": [
    "frutas.pop()"
   ]
  },
  {
   "cell_type": "code",
   "execution_count": 32,
   "id": "3a14205f-2b6b-4f2d-82c1-220cd8a03bea",
   "metadata": {},
   "outputs": [
    {
     "data": {
      "text/plain": [
       "['zanahoria', 'cereza', 'ciruela', 'Arandano', 'Uva', 'mangaso']"
      ]
     },
     "execution_count": 32,
     "metadata": {},
     "output_type": "execute_result"
    }
   ],
   "source": [
    "frutas\n"
   ]
  },
  {
   "cell_type": "code",
   "execution_count": 33,
   "id": "0c60ff4b-0ae6-43c4-a80a-dbaf3d3904cd",
   "metadata": {},
   "outputs": [
    {
     "data": {
      "text/plain": [
       "['Arandano', 'Uva', 'cereza', 'ciruela', 'mangaso', 'zanahoria']"
      ]
     },
     "execution_count": 33,
     "metadata": {},
     "output_type": "execute_result"
    }
   ],
   "source": [
    "\n",
    "frutas.sort()\n",
    "frutas"
   ]
  },
  {
   "cell_type": "code",
   "execution_count": 34,
   "id": "2d8f1e60-9ecf-4c4f-a796-dc7275e154bd",
   "metadata": {},
   "outputs": [],
   "source": [
    "frutas.remove(\"ciruela\")"
   ]
  },
  {
   "cell_type": "code",
   "execution_count": 35,
   "id": "fa2ed463-f331-4ea8-8166-d4aaf1edce85",
   "metadata": {},
   "outputs": [
    {
     "data": {
      "text/plain": [
       "['Arandano', 'Uva', 'cereza', 'mangaso', 'zanahoria']"
      ]
     },
     "execution_count": 35,
     "metadata": {},
     "output_type": "execute_result"
    }
   ],
   "source": [
    "frutas"
   ]
  },
  {
   "cell_type": "code",
   "execution_count": 36,
   "id": "9f0da6d5-f63b-480b-8fb8-b3eab73069c6",
   "metadata": {},
   "outputs": [
    {
     "ename": "ValueError",
     "evalue": "list.remove(x): x not in list",
     "output_type": "error",
     "traceback": [
      "\u001b[1;31m---------------------------------------------------------------------------\u001b[0m",
      "\u001b[1;31mValueError\u001b[0m                                Traceback (most recent call last)",
      "Cell \u001b[1;32mIn[36], line 1\u001b[0m\n\u001b[1;32m----> 1\u001b[0m frutas\u001b[38;5;241m.\u001b[39mremove(\u001b[38;5;124m\"\u001b[39m\u001b[38;5;124mUVA\u001b[39m\u001b[38;5;124m\"\u001b[39m)\n",
      "\u001b[1;31mValueError\u001b[0m: list.remove(x): x not in list"
     ]
    }
   ],
   "source": [
    "frutas.remove(\"UVA\")"
   ]
  },
  {
   "cell_type": "code",
   "execution_count": 37,
   "id": "60f5bf9d-abcf-4e64-a9fe-3efb4a148d71",
   "metadata": {},
   "outputs": [
    {
     "data": {
      "text/plain": [
       "['__add__',\n",
       " '__class__',\n",
       " '__class_getitem__',\n",
       " '__contains__',\n",
       " '__delattr__',\n",
       " '__delitem__',\n",
       " '__dir__',\n",
       " '__doc__',\n",
       " '__eq__',\n",
       " '__format__',\n",
       " '__ge__',\n",
       " '__getattribute__',\n",
       " '__getitem__',\n",
       " '__getstate__',\n",
       " '__gt__',\n",
       " '__hash__',\n",
       " '__iadd__',\n",
       " '__imul__',\n",
       " '__init__',\n",
       " '__init_subclass__',\n",
       " '__iter__',\n",
       " '__le__',\n",
       " '__len__',\n",
       " '__lt__',\n",
       " '__mul__',\n",
       " '__ne__',\n",
       " '__new__',\n",
       " '__reduce__',\n",
       " '__reduce_ex__',\n",
       " '__repr__',\n",
       " '__reversed__',\n",
       " '__rmul__',\n",
       " '__setattr__',\n",
       " '__setitem__',\n",
       " '__sizeof__',\n",
       " '__str__',\n",
       " '__subclasshook__',\n",
       " 'append',\n",
       " 'clear',\n",
       " 'copy',\n",
       " 'count',\n",
       " 'extend',\n",
       " 'index',\n",
       " 'insert',\n",
       " 'pop',\n",
       " 'remove',\n",
       " 'reverse',\n",
       " 'sort']"
      ]
     },
     "execution_count": 37,
     "metadata": {},
     "output_type": "execute_result"
    }
   ],
   "source": [
    "dir(frutas)"
   ]
  },
  {
   "cell_type": "code",
   "execution_count": 38,
   "id": "2cf06787-90c5-4a61-9951-a2a343250976",
   "metadata": {},
   "outputs": [
    {
     "data": {
      "text/plain": [
       "4"
      ]
     },
     "execution_count": 38,
     "metadata": {},
     "output_type": "execute_result"
    }
   ],
   "source": [
    "len(\"Jose\")"
   ]
  },
  {
   "cell_type": "code",
   "execution_count": 39,
   "id": "67acb3d9-50c6-4072-900c-0634d9ba1605",
   "metadata": {},
   "outputs": [
    {
     "data": {
      "text/plain": [
       "5"
      ]
     },
     "execution_count": 39,
     "metadata": {},
     "output_type": "execute_result"
    }
   ],
   "source": [
    "len(frutas)"
   ]
  },
  {
   "cell_type": "code",
   "execution_count": 40,
   "id": "7356aad4-c66a-4293-836b-bd754668ed81",
   "metadata": {},
   "outputs": [
    {
     "data": {
      "text/plain": [
       "3"
      ]
     },
     "execution_count": 40,
     "metadata": {},
     "output_type": "execute_result"
    }
   ],
   "source": [
    "len(mixta)"
   ]
  },
  {
   "cell_type": "code",
   "execution_count": 41,
   "id": "f9f3d088-4acc-456e-b1f5-9d67e75a1919",
   "metadata": {},
   "outputs": [
    {
     "data": {
      "text/plain": [
       "['1', '2', '3', '1', '2', '3', '1', '2', '3', '1', '2', '3', '1', '2', '3']"
      ]
     },
     "execution_count": 41,
     "metadata": {},
     "output_type": "execute_result"
    }
   ],
   "source": [
    "lista1=[\"1\",\"2\",\"3\"]\n",
    "lista2=[\"A\",\"B\",\"C\"]\n",
    "lista3=[\"Juan\",\"Pedro\",\"Mario\"]\n",
    "lista1*5"
   ]
  },
  {
   "cell_type": "code",
   "execution_count": 43,
   "id": "0390fd93-2984-4d1d-952c-9b75459836b0",
   "metadata": {},
   "outputs": [
    {
     "data": {
      "text/plain": [
       "tuple"
      ]
     },
     "execution_count": 43,
     "metadata": {},
     "output_type": "execute_result"
    }
   ],
   "source": [
    "t=1,2\n",
    "type(t)"
   ]
  },
  {
   "cell_type": "code",
   "execution_count": 44,
   "id": "d3344385-43d0-4764-a515-fca2c8d6a5cb",
   "metadata": {},
   "outputs": [],
   "source": [
    "tt=(1,2,3)"
   ]
  },
  {
   "cell_type": "code",
   "execution_count": 45,
   "id": "6b73429e-3326-4188-a715-fabf4d05d5b9",
   "metadata": {},
   "outputs": [
    {
     "data": {
      "text/plain": [
       "2"
      ]
     },
     "execution_count": 45,
     "metadata": {},
     "output_type": "execute_result"
    }
   ],
   "source": [
    "tt[1]"
   ]
  },
  {
   "cell_type": "code",
   "execution_count": 48,
   "id": "65ed8d56-ee82-4e2f-928a-65f5e4f662e0",
   "metadata": {},
   "outputs": [
    {
     "data": {
      "text/plain": [
       "3"
      ]
     },
     "execution_count": 48,
     "metadata": {},
     "output_type": "execute_result"
    }
   ],
   "source": [
    "tt[2]"
   ]
  },
  {
   "cell_type": "code",
   "execution_count": 49,
   "id": "fcac642a-3c37-4c25-8ce3-e4014e6abcd9",
   "metadata": {},
   "outputs": [],
   "source": [
    "tm=(\"Jose\",\"Teruel\",18)"
   ]
  },
  {
   "cell_type": "code",
   "execution_count": 50,
   "id": "18441b01-6eb3-4eab-b8ab-a742c06d922b",
   "metadata": {},
   "outputs": [
    {
     "data": {
      "text/plain": [
       "('Jose', 'Teruel', 18)"
      ]
     },
     "execution_count": 50,
     "metadata": {},
     "output_type": "execute_result"
    }
   ],
   "source": [
    "tm"
   ]
  },
  {
   "cell_type": "code",
   "execution_count": 51,
   "id": "a20a6704-5df5-4eb3-bbc6-9942df68dd5a",
   "metadata": {},
   "outputs": [
    {
     "data": {
      "text/plain": [
       "tuple"
      ]
     },
     "execution_count": 51,
     "metadata": {},
     "output_type": "execute_result"
    }
   ],
   "source": [
    "type(tm)"
   ]
  },
  {
   "cell_type": "code",
   "execution_count": 52,
   "id": "8cceb9a0-1f4a-4a3f-9ca6-710a7b659135",
   "metadata": {},
   "outputs": [
    {
     "data": {
      "text/plain": [
       "'Teruel'"
      ]
     },
     "execution_count": 52,
     "metadata": {},
     "output_type": "execute_result"
    }
   ],
   "source": [
    "elemento=tm[1]\n",
    "elemento"
   ]
  },
  {
   "cell_type": "code",
   "execution_count": 53,
   "id": "4ddaeea9-9569-41c1-86db-4caf79e7020f",
   "metadata": {},
   "outputs": [
    {
     "data": {
      "text/plain": [
       "'TERUEL'"
      ]
     },
     "execution_count": 53,
     "metadata": {},
     "output_type": "execute_result"
    }
   ],
   "source": [
    "elemento.upper()"
   ]
  },
  {
   "cell_type": "code",
   "execution_count": 54,
   "id": "315f7132-b0df-4f51-b9f6-cd4f5670a5d4",
   "metadata": {},
   "outputs": [
    {
     "data": {
      "text/plain": [
       "2"
      ]
     },
     "execution_count": 54,
     "metadata": {},
     "output_type": "execute_result"
    }
   ],
   "source": [
    "tupla=(1,2,3)\n",
    "tupla[0]\n",
    "a,v,c=tupla\n",
    "v\n",
    "\n"
   ]
  },
  {
   "cell_type": "code",
   "execution_count": 56,
   "id": "3b1388a6-f32b-447e-9358-541d9b39e642",
   "metadata": {},
   "outputs": [
    {
     "data": {
      "text/plain": [
       "[(17, 2, 2007), ('Jose', 'Teruel')]"
      ]
     },
     "execution_count": 56,
     "metadata": {},
     "output_type": "execute_result"
    }
   ],
   "source": [
    "nacimiento=(17,2,2007)\n",
    "cliente=(\"Jose\",\"Teruel\")\n",
    "info=[nacimiento,cliente]\n",
    "info"
   ]
  },
  {
   "cell_type": "code",
   "execution_count": null,
   "id": "6a658a23-5ae9-41ae-a20c-2b7523a58abe",
   "metadata": {},
   "outputs": [],
   "source": []
  }
 ],
 "metadata": {
  "kernelspec": {
   "display_name": "Python [conda env:base] *",
   "language": "python",
   "name": "conda-base-py"
  },
  "language_info": {
   "codemirror_mode": {
    "name": "ipython",
    "version": 3
   },
   "file_extension": ".py",
   "mimetype": "text/x-python",
   "name": "python",
   "nbconvert_exporter": "python",
   "pygments_lexer": "ipython3",
   "version": "3.12.7"
  }
 },
 "nbformat": 4,
 "nbformat_minor": 5
}
